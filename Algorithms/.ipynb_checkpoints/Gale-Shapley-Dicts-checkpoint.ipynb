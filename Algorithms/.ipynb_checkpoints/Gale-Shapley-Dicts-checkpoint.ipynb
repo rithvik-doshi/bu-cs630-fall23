{
 "cells": [
  {
   "cell_type": "markdown",
   "id": "bae3e958",
   "metadata": {},
   "source": [
    "# Stable Matching Algorithm using python dicts\n",
    "Rithvik Doshi"
   ]
  },
  {
   "cell_type": "markdown",
   "id": "f365782a-7f11-45db-8088-d37cd7e0c608",
   "metadata": {},
   "source": [
    "### Test Data"
   ]
  },
  {
   "cell_type": "code",
   "execution_count": 2,
   "id": "5b0f5dcf",
   "metadata": {},
   "outputs": [],
   "source": [
    "men_pref = {\n",
    "\t 'a': ['z', 'x', 'y', 'v', 'w'],\n",
    "\t 'b': ['y', 'x', 'z', 'w', 'v'],\n",
    "\t 'c': ['z', 'x', 'y', 'w', 'v'],\n",
    "     'd': ['z', 'w', 'v', 'x', 'y'],\n",
    "     'e': ['y', 'w', 'z', 'v', 'x']\n",
    "}\n",
    "\n",
    "women_pref = {\n",
    "\t 'x': ['b', 'c', 'a', 'd', 'e'],\n",
    "\t 'y': ['c', 'a', 'b', 'd', 'e'],\n",
    "\t 'z': ['b', 'c', 'a', 'e', 'd'],\n",
    "     'v': ['e', 'd', 'c', 'b', 'a'],\n",
    "     'w': ['e', 'd', 'c', 'b', 'a']\n",
    "}"
   ]
  },
  {
   "cell_type": "markdown",
   "id": "ae4b9ea6-3023-45cb-9d88-853438d2910e",
   "metadata": {},
   "source": [
    "### Inverse Map (O(n) time)"
   ]
  },
  {
   "cell_type": "code",
   "execution_count": 11,
   "id": "a98f3b4b-5d36-44a5-a690-2b28070df2e9",
   "metadata": {},
   "outputs": [],
   "source": [
    "def inverse_map(map_to_invert):\n",
    "    inv_map = {}\n",
    "    for k, v in map_to_invert.items():\n",
    "        inv_map[v] = inv_map.get(v, []) + [k]\n",
    "    return inv_map"
   ]
  },
  {
   "cell_type": "code",
   "execution_count": 12,
   "id": "f4f44c16",
   "metadata": {},
   "outputs": [],
   "source": [
    "def gale_shapley_verbose(mp = men_pref, wp = women_pref):\n",
    "\n",
    "    # Initialize empty matching\n",
    "    matches = dict.fromkeys(men_pref.keys())\n",
    "    inv_map = inverse_map(matches)\n",
    "\n",
    "    count = 1\n",
    "    \n",
    "    while(inv_map.get(None)):\n",
    "\n",
    "        print(f\"\\nIteration {count}\")\n",
    "        count +=1\n",
    "\n",
    "        print(\"Maps:\", matches, inv_map)\n",
    "        \n",
    "        m = inv_map[None].pop(0)\n",
    "        m_p = mp[m]\n",
    "\n",
    "        print(\"Current unmatched man and preferences:\", m, m_p)\n",
    "\n",
    "        for w in m_p:\n",
    "            # If w unmatched, match with m\n",
    "            if w not in inv_map.keys():\n",
    "                matches[m] = w\n",
    "                print(m, \"matched with\", matches[m])\n",
    "                print(\"New matches:\", matches)\n",
    "                inv_map = inverse_map(matches)\n",
    "                print(inv_map)\n",
    "                break\n",
    "            else:\n",
    "                # Find current partner of w\n",
    "                cp = inv_map[w][0]\n",
    "                print(f\"{w}'s current partner is {cp}\")\n",
    "                if women_pref[w].index(m) < women_pref[w].index(cp):\n",
    "                    print(f\"{m} at {women_pref[w].index(m)} is ranked higher than {cp} at {women_pref[w].index(cp)}\")\n",
    "                    matches[cp] = None\n",
    "                    matches[m] = w\n",
    "                    print(m, \"matched with\", matches[m])\n",
    "                    inv_map = inverse_map(matches)\n",
    "                    print(inv_map)\n",
    "                    break\n",
    "                else:\n",
    "                    print(f\"{m} at {women_pref[w].index(m)} is not ranked higher than {cp} at {women_pref[w].index(cp)}\")\n",
    "                    print(\"Checking next w...\")\n",
    "                    \n",
    "    return matches"
   ]
  },
  {
   "cell_type": "code",
   "execution_count": 13,
   "id": "9077c763-a99c-47d3-9af1-8e7cb6c04aad",
   "metadata": {},
   "outputs": [
    {
     "name": "stdout",
     "output_type": "stream",
     "text": [
      "\n",
      "Iteration 1\n",
      "Maps: {'a': None, 'b': None, 'c': None, 'd': None, 'e': None} {None: ['a', 'b', 'c', 'd', 'e']}\n",
      "Current unmatched man and preferences: a ['z', 'x', 'y', 'v', 'w']\n",
      "a matched with z\n",
      "New matches: {'a': 'z', 'b': None, 'c': None, 'd': None, 'e': None}\n",
      "{'z': ['a'], None: ['b', 'c', 'd', 'e']}\n",
      "\n",
      "Iteration 2\n",
      "Maps: {'a': 'z', 'b': None, 'c': None, 'd': None, 'e': None} {'z': ['a'], None: ['b', 'c', 'd', 'e']}\n",
      "Current unmatched man and preferences: b ['y', 'x', 'z', 'w', 'v']\n",
      "b matched with y\n",
      "New matches: {'a': 'z', 'b': 'y', 'c': None, 'd': None, 'e': None}\n",
      "{'z': ['a'], 'y': ['b'], None: ['c', 'd', 'e']}\n",
      "\n",
      "Iteration 3\n",
      "Maps: {'a': 'z', 'b': 'y', 'c': None, 'd': None, 'e': None} {'z': ['a'], 'y': ['b'], None: ['c', 'd', 'e']}\n",
      "Current unmatched man and preferences: c ['z', 'x', 'y', 'w', 'v']\n",
      "z's current partner is a\n",
      "c at 1 is ranked higher than a at 2\n",
      "c matched with z\n",
      "{None: ['a', 'd', 'e'], 'y': ['b'], 'z': ['c']}\n",
      "\n",
      "Iteration 4\n",
      "Maps: {'a': None, 'b': 'y', 'c': 'z', 'd': None, 'e': None} {None: ['a', 'd', 'e'], 'y': ['b'], 'z': ['c']}\n",
      "Current unmatched man and preferences: a ['z', 'x', 'y', 'v', 'w']\n",
      "z's current partner is c\n",
      "a at 2 is not ranked higher than c at 1\n",
      "Checking next w...\n",
      "a matched with x\n",
      "New matches: {'a': 'x', 'b': 'y', 'c': 'z', 'd': None, 'e': None}\n",
      "{'x': ['a'], 'y': ['b'], 'z': ['c'], None: ['d', 'e']}\n",
      "\n",
      "Iteration 5\n",
      "Maps: {'a': 'x', 'b': 'y', 'c': 'z', 'd': None, 'e': None} {'x': ['a'], 'y': ['b'], 'z': ['c'], None: ['d', 'e']}\n",
      "Current unmatched man and preferences: d ['z', 'w', 'v', 'x', 'y']\n",
      "z's current partner is c\n",
      "d at 4 is not ranked higher than c at 1\n",
      "Checking next w...\n",
      "d matched with w\n",
      "New matches: {'a': 'x', 'b': 'y', 'c': 'z', 'd': 'w', 'e': None}\n",
      "{'x': ['a'], 'y': ['b'], 'z': ['c'], 'w': ['d'], None: ['e']}\n",
      "\n",
      "Iteration 6\n",
      "Maps: {'a': 'x', 'b': 'y', 'c': 'z', 'd': 'w', 'e': None} {'x': ['a'], 'y': ['b'], 'z': ['c'], 'w': ['d'], None: ['e']}\n",
      "Current unmatched man and preferences: e ['y', 'w', 'z', 'v', 'x']\n",
      "y's current partner is b\n",
      "e at 4 is not ranked higher than b at 2\n",
      "Checking next w...\n",
      "w's current partner is d\n",
      "e at 0 is ranked higher than d at 1\n",
      "e matched with w\n",
      "{'x': ['a'], 'y': ['b'], 'z': ['c'], None: ['d'], 'w': ['e']}\n",
      "\n",
      "Iteration 7\n",
      "Maps: {'a': 'x', 'b': 'y', 'c': 'z', 'd': None, 'e': 'w'} {'x': ['a'], 'y': ['b'], 'z': ['c'], None: ['d'], 'w': ['e']}\n",
      "Current unmatched man and preferences: d ['z', 'w', 'v', 'x', 'y']\n",
      "z's current partner is c\n",
      "d at 4 is not ranked higher than c at 1\n",
      "Checking next w...\n",
      "w's current partner is e\n",
      "d at 1 is not ranked higher than e at 0\n",
      "Checking next w...\n",
      "d matched with v\n",
      "New matches: {'a': 'x', 'b': 'y', 'c': 'z', 'd': 'v', 'e': 'w'}\n",
      "{'x': ['a'], 'y': ['b'], 'z': ['c'], 'v': ['d'], 'w': ['e']}\n"
     ]
    },
    {
     "data": {
      "text/plain": [
       "{'a': 'x', 'b': 'y', 'c': 'z', 'd': 'v', 'e': 'w'}"
      ]
     },
     "execution_count": 13,
     "metadata": {},
     "output_type": "execute_result"
    }
   ],
   "source": [
    "gale_shapley_verbose()"
   ]
  },
  {
   "cell_type": "code",
   "execution_count": null,
   "id": "84752a8d-886d-4fc0-81fa-6541bb8fc85b",
   "metadata": {},
   "outputs": [],
   "source": []
  }
 ],
 "metadata": {
  "kernelspec": {
   "display_name": "Python 3 (ipykernel)",
   "language": "python",
   "name": "python3"
  },
  "language_info": {
   "codemirror_mode": {
    "name": "ipython",
    "version": 3
   },
   "file_extension": ".py",
   "mimetype": "text/x-python",
   "name": "python",
   "nbconvert_exporter": "python",
   "pygments_lexer": "ipython3",
   "version": "3.11.4"
  }
 },
 "nbformat": 4,
 "nbformat_minor": 5
}
